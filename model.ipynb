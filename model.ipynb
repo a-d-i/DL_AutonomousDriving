{
 "cells": [
  {
   "cell_type": "code",
   "execution_count": null,
   "metadata": {
    "scrolled": false
   },
   "outputs": [],
   "source": [
    "import csv\n",
    "import os\n",
    "import sklearn\n",
    "import matplotlib.pyplot as plt\n",
    "import numpy as np\n",
    "%matplotlib inline"
   ]
  },
  {
   "cell_type": "markdown",
   "metadata": {},
   "source": [
    "## Train Data Combination of Several Train Collects on Simulator"
   ]
  },
  {
   "cell_type": "code",
   "execution_count": null,
   "metadata": {
    "scrolled": false
   },
   "outputs": [],
   "source": [
    "#\n",
    "# Needed one time to concatenate data collected in different runs of the simulator\n",
    "#\n",
    "# data_path = \"../../tvdata\"\n",
    "# data_log_filename = \"driving_log.csv\"\n",
    "# data_fout = data_path + \"/\" + data_log_filename\n",
    "\n",
    "# data_dirs = os.listdir(data_path)\n",
    "# fout = open(data_fout, \"a\")\n",
    "\n",
    "# try:\n",
    "#     for i in range(len(data_dirs)):\n",
    "#         data_fin = data_path + \"/\" + data_dirs[i] + \"/\" + data_log_filename\n",
    "#         print (\"processing: \", data_fin)\n",
    "#         for line in open(data_fin):\n",
    "#             fout.write(line)\n",
    "# except:\n",
    "#     print(\"Error in data concatenation...\")\n",
    "#     pass\n",
    "\n",
    "# fout.close()\n"
   ]
  },
  {
   "cell_type": "markdown",
   "metadata": {},
   "source": [
    "## Data Augmentation Experimentation"
   ]
  },
  {
   "cell_type": "code",
   "execution_count": null,
   "metadata": {
    "scrolled": false
   },
   "outputs": [],
   "source": [
    "# Augmentation of images by flipping images left to right and changing the sign of the steering angle. \n",
    "# This was tried out in a seperate workspace and performance did not improve over the \n",
    "# driving set collected driving both ways in the simulator."
   ]
  },
  {
   "cell_type": "code",
   "execution_count": null,
   "metadata": {
    "scrolled": false
   },
   "outputs": [],
   "source": [
    "train_and_validate_samples = []\n",
    "\n",
    "with open('../../tvdata/driving_log.csv') as csvfile:\n",
    "    reader = csv.reader(csvfile)\n",
    "    for line in reader:\n",
    "        train_and_validate_samples.append(line)\n"
   ]
  },
  {
   "cell_type": "markdown",
   "metadata": {},
   "source": [
    "## Training and Validation Data Stats and Visualization"
   ]
  },
  {
   "cell_type": "code",
   "execution_count": null,
   "metadata": {
    "scrolled": false
   },
   "outputs": [],
   "source": [
    "# Each training sample has 3 images\n",
    "print (\"Total training samples: \", len(train_and_validate_samples) * 3)\n",
    "\n",
    "meas = []\n",
    "iter = 0\n",
    "# Visualize the steering samples.\n",
    "for line in train_and_validate_samples:      \n",
    "    steering_meas = float(line[3])\n",
    "    meas.append(steering_meas)\n",
    "    iter += 1\n",
    "    \n",
    "    # plot some image samples\n",
    "    if ((iter % 2500) == 0):\n",
    "        print (\"Steering Meas: \", steering_meas)\n",
    "        \n",
    "        file_pathname = line[0].split(\"/\")[-1]\n",
    "        image = plt.imread(\"../../tvdata/IMG/\" + file_pathname)\n",
    "        plt.imshow(image)\n",
    "        plt.show()\n",
    "        \n",
    "        file_pathname = line[1].split(\"/\")[-1]\n",
    "        image = plt.imread(\"../../tvdata/IMG/\" + file_pathname)\n",
    "        plt.imshow(image)\n",
    "        plt.show()\n",
    "        \n",
    "        file_pathname = line[2].split(\"/\")[-1]\n",
    "        image = plt.imread(\"../../tvdata/IMG/\" + file_pathname)\n",
    "        plt.imshow(image)\n",
    "        plt.show()\n",
    "        \n",
    "        \n",
    "    \n",
    "plt.plot(meas)\n",
    "plt.xlabel(\"samples\")\n",
    "plt.ylabel(\"steering angle\")\n",
    "plt.title(\"Steering angle visualization\")\n",
    "plt.show()\n",
    "plt.plot(np.diff(meas))\n",
    "plt.xlabel(\"samples\")\n",
    "plt.ylabel(\"steering angle derivative\")\n",
    "plt.title(\"Steering angle derivative visualization\")"
   ]
  },
  {
   "cell_type": "code",
   "execution_count": null,
   "metadata": {
    "scrolled": false
   },
   "outputs": [],
   "source": [
    "from sklearn.model_selection import train_test_split\n",
    "train_samples, validation_samples = train_test_split(train_and_validate_samples, test_size=0.3)"
   ]
  },
  {
   "cell_type": "code",
   "execution_count": null,
   "metadata": {
    "scrolled": false
   },
   "outputs": [],
   "source": [
    "# Generator\n",
    "correction = 0.1\n",
    "used_batch_size = 128\n",
    "data_dir = \"../../tvdata/IMG/\"\n",
    "\n",
    "def generator(samples, base_path, batch_size=used_batch_size):\n",
    "    num_samples = len(samples)\n",
    "    while 1: # Loop forever so the generator never terminates\n",
    "        sklearn.utils.shuffle(samples)\n",
    "        for offset in range(0, num_samples, batch_size):\n",
    "            batch_samples = samples[offset:offset+batch_size]\n",
    "\n",
    "            images = []\n",
    "            measurements = []\n",
    "            for line in batch_samples:\n",
    "                # Center Image.\n",
    "                file_pathname = line[0].split(\"/\")[-1]\n",
    "                image = plt.imread(base_path + file_pathname)\n",
    "                images.append(image)\n",
    "                steering_meas = float(line[3])\n",
    "                measurements.append(steering_meas)\n",
    "\n",
    "                # Apply + correction to steering angle of left image\n",
    "                l_file_pathname = line[1].split(\"/\")[-1]\n",
    "                image = plt.imread(base_path + l_file_pathname.lstrip())\n",
    "                images.append(image)\n",
    "                measurements.append(steering_meas + correction)\n",
    "    \n",
    "                # Apply - correction to steering angle of right image.\n",
    "                r_file_pathname = line[2].split(\"/\")[-1]\n",
    "                image = plt.imread(base_path + r_file_pathname.lstrip())\n",
    "                images.append(image)\n",
    "                measurements.append(steering_meas - correction)\n",
    "\n",
    "            X_train = np.array(images)\n",
    "            y_train = np.array(measurements)\n",
    "            yield sklearn.utils.shuffle(X_train, y_train)"
   ]
  },
  {
   "cell_type": "code",
   "execution_count": null,
   "metadata": {
    "scrolled": false
   },
   "outputs": [],
   "source": [
    "# compile and train the model using the generator function\n",
    "train_generator = generator(train_samples, data_dir, batch_size=used_batch_size)\n",
    "validation_generator = generator(validation_samples, data_dir, batch_size=used_batch_size)"
   ]
  },
  {
   "cell_type": "code",
   "execution_count": null,
   "metadata": {
    "scrolled": false
   },
   "outputs": [],
   "source": [
    "def show_loss_stats(history_object):\n",
    "    ### plot the training and validation loss for each epoch\n",
    "    plt.plot(history_object.history['loss'])\n",
    "    plt.plot(history_object.history['val_loss'])\n",
    "    plt.title('model mean squared error loss')\n",
    "    plt.ylabel('mean squared error loss')\n",
    "    plt.xlabel('epoch')\n",
    "    plt.legend(['training set', 'validation set'], loc='upper right')\n",
    "    plt.show()"
   ]
  },
  {
   "cell_type": "code",
   "execution_count": null,
   "metadata": {
    "scrolled": false
   },
   "outputs": [],
   "source": [
    "import math\n",
    "import keras\n",
    "from keras.models import Sequential\n",
    "from keras.layers import Dense, Flatten, Lambda, Conv2D, MaxPooling2D, Cropping2D, Dropout\n",
    "from keras import optimizers\n",
    "print (keras.__version__)\n",
    "\n",
    "def lenet_model():\n",
    "    print ('\\nTraining using lenet_model()...\\n')\n",
    "    model = Sequential()\n",
    "    model.add(Lambda(lambda x: x / 255.0 - 0.5, input_shape=(160,320,3)))\n",
    "    model.add(Cropping2D( cropping=((50,20), (0,0))) )\n",
    "    model.add(Conv2D(6, (5,5) ,activation=\"relu\"))\n",
    "    model.add(MaxPooling2D())\n",
    "    model.add(Conv2D(6, (5,5) ,activation=\"relu\"))\n",
    "    model.add(MaxPooling2D())\n",
    "    model.add(Flatten())\n",
    "    model.add(Dense(120))\n",
    "    model.add(Dense(84))\n",
    "    model.add(Dense(1))\n",
    "\n",
    "    model.compile(loss=\"mse\", optimizer=\"adam\")\n",
    "    model.summary()\n",
    "    \n",
    "#    history_object = model.fit(X_train,y_train,validation_split=0.2, shuffle=True, epochs=1, batch_size=512, verbose=2)\n",
    "    history_object = model.fit_generator(train_generator, steps_per_epoch=math.ceil( len(train_samples)/used_batch_size ),\n",
    "                                         validation_data=validation_generator,\n",
    "                                         validation_steps=math.ceil((len(validation_samples)/used_batch_size)), \n",
    "                                         epochs=15,verbose=2,initial_epoch=0)\n",
    "    model.save('model.h5')\n",
    "    show_loss_stats(history_object)\n",
    "\n",
    "def regularized_nvidia_model():\n",
    "    print('\\nTraining using Regularized Nvidia model...\\n')\n",
    "    model = Sequential()\n",
    "    model.add(Lambda(lambda x: x / 255.0 - 0.5, input_shape=(160,320,3)))\n",
    "    model.add(Cropping2D( cropping=((50,20), (0,0))) )\n",
    "    model.add(Conv2D(24, (5,5), strides=(2,2), activation='relu'))\n",
    "    model.add(Dropout(0.5))\n",
    "    model.add(Conv2D(36, (5,5), strides=(2,2), activation='relu'))\n",
    "    model.add(Dropout(0.5))\n",
    "    model.add(Conv2D(48, (5,5), strides=(2,2), activation='relu'))\n",
    "    model.add(Dropout(0.5))\n",
    "    model.add(Conv2D(64, (3,3), strides=(2,2), activation='relu'))\n",
    "    model.add(Dropout(0.5))\n",
    "    model.add(Conv2D(64, (3,3), strides=(2,2), activation='relu'))\n",
    "    model.add(Flatten())\n",
    "    model.add(Dense(100))\n",
    "    model.add(Dense(50))\n",
    "    model.add(Dense(10))\n",
    "    model.add(Dense(1))\n",
    "    \n",
    "    model.compile(loss=\"mse\", optimizer=\"adam\")\n",
    "    model.summary()\n",
    "    \n",
    "    history_object = model.fit_generator(train_generator, steps_per_epoch=math.ceil( len(train_samples)/used_batch_size ),\n",
    "                                         validation_data=validation_generator,\n",
    "                                         validation_steps=math.ceil((len(validation_samples)/used_batch_size)), \n",
    "                                         epochs=15,verbose=2,initial_epoch=0)\n",
    "    \n",
    "#    opt = optimizers.Adamax(lr=0.002, beta_1=0.9, beta_2=0.999, epsilon=None, decay=0.0)\n",
    "#    opt = optimizers.Adadelta(lr=1.0, rho=0.95, epsilon=None, decay=0.0)\n",
    "#    model.compile(loss=\"mse\", optimizer=opt)\n",
    "#    history_object = model.fit(X_train,y_train,validation_split=0.3, shuffle=True, epochs=8, batch_size=512, verbose=2)\n",
    "\n",
    "    model.save('model.h5')\n",
    "    show_loss_stats(history_object)"
   ]
  },
  {
   "cell_type": "code",
   "execution_count": null,
   "metadata": {
    "scrolled": true
   },
   "outputs": [],
   "source": [
    "#lenet_model()    \n",
    "regularized_nvidia_model()"
   ]
  },
  {
   "cell_type": "code",
   "execution_count": null,
   "metadata": {
    "scrolled": false
   },
   "outputs": [],
   "source": []
  }
 ],
 "metadata": {
  "kernelspec": {
   "display_name": "Python 3",
   "language": "python",
   "name": "python3"
  },
  "language_info": {
   "codemirror_mode": {
    "name": "ipython",
    "version": 3
   },
   "file_extension": ".py",
   "mimetype": "text/x-python",
   "name": "python",
   "nbconvert_exporter": "python",
   "pygments_lexer": "ipython3",
   "version": "3.6.1rc1"
  }
 },
 "nbformat": 4,
 "nbformat_minor": 2
}
