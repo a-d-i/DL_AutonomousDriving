{
 "cells": [
  {
   "cell_type": "code",
   "execution_count": null,
   "metadata": {},
   "outputs": [],
   "source": [
    "import csv"
   ]
  },
  {
   "cell_type": "code",
   "execution_count": null,
   "metadata": {},
   "outputs": [],
   "source": [
    "trainlog_lines = []"
   ]
  },
  {
   "cell_type": "code",
   "execution_count": null,
   "metadata": {},
   "outputs": [],
   "source": [
    "#import cv2\n",
    "import matplotlib.pyplot as plt\n",
    "import numpy as np\n",
    "%matplotlib inline\n",
    "\n",
    "images = []\n",
    "measurements = []\n",
    "correction = 0.1\n",
    "\n",
    "def load_images(base_path):\n",
    "    for line in trainlog_lines:\n",
    "        file_pathname = line[0].split(\"/\")[-1]\n",
    "        image = plt.imread(base_path + file_pathname)\n",
    "        images.append(image)\n",
    "        steering_meas = float(line[3])\n",
    "        measurements.append(steering_meas)\n",
    "\n",
    "        l_file_pathname = line[1].split(\"/\")[-1]\n",
    "        image = plt.imread(base_path + l_file_pathname.lstrip())\n",
    "        images.append(image)\n",
    "        measurements.append(steering_meas + correction)\n",
    "    \n",
    "        r_file_pathname = line[2].split(\"/\")[-1]\n",
    "        image = plt.imread(base_path + r_file_pathname.lstrip())\n",
    "        images.append(image)\n",
    "        measurements.append(steering_meas - correction)"
   ]
  },
  {
   "cell_type": "code",
   "execution_count": null,
   "metadata": {},
   "outputs": [],
   "source": [
    "# Load dataset 1\n",
    "with open(\"../../data2/driving_log.csv\") as csvfile:\n",
    "    reader = csv.reader(csvfile)\n",
    "    next(reader)\n",
    "    iter = 0\n",
    "    for line in reader:\n",
    "        trainlog_lines.append(line)\n",
    "        iter += 1\n",
    "    print (iter)\n",
    "print (trainlog_lines[1])    \n",
    "load_images(\"../../data2/IMG/\")"
   ]
  },
  {
   "cell_type": "code",
   "execution_count": null,
   "metadata": {},
   "outputs": [],
   "source": [
    "# Load dataset 2\n",
    "trainlog_lines = []\n",
    "with open(\"../../data/driving_log.csv\") as csvfile:\n",
    "    reader = csv.reader(csvfile)\n",
    "    next(reader)\n",
    "    iter = 0\n",
    "    for line in reader:\n",
    "        trainlog_lines.append(line)\n",
    "        iter += 1\n",
    "    print (iter)\n",
    "print (trainlog_lines[1])    \n",
    "load_images(\"../../data/IMG/\")"
   ]
  },
  {
   "cell_type": "code",
   "execution_count": null,
   "metadata": {},
   "outputs": [],
   "source": [
    "# Load dataset 3\n",
    "trainlog_lines = []\n",
    "with open(\"../../data3/driving_log.csv\") as csvfile:\n",
    "    reader = csv.reader(csvfile)\n",
    "    next(reader)\n",
    "    iter = 0\n",
    "    for line in reader:\n",
    "        trainlog_lines.append(line)\n",
    "        iter += 1\n",
    "    print (iter)\n",
    "print (trainlog_lines[1])    \n",
    "load_images(\"../../data3/IMG/\")"
   ]
  },
  {
   "cell_type": "code",
   "execution_count": null,
   "metadata": {},
   "outputs": [],
   "source": [
    "# Load dataset 4\n",
    "trainlog_lines = []\n",
    "with open(\"../../data4/driving_log.csv\") as csvfile:\n",
    "    reader = csv.reader(csvfile)\n",
    "    next(reader)\n",
    "    iter = 0\n",
    "    for line in reader:\n",
    "        trainlog_lines.append(line)\n",
    "        iter += 1\n",
    "    print (iter)\n",
    "print (trainlog_lines[1])    \n",
    "load_images(\"../../data4/IMG/\")"
   ]
  },
  {
   "cell_type": "code",
   "execution_count": null,
   "metadata": {},
   "outputs": [],
   "source": [
    "# Load dataset 5\n",
    "trainlog_lines = []\n",
    "with open(\"../../data5/driving_log.csv\") as csvfile:\n",
    "    reader = csv.reader(csvfile)\n",
    "    next(reader)\n",
    "    iter = 0\n",
    "    for line in reader:\n",
    "        trainlog_lines.append(line)\n",
    "        iter += 1\n",
    "    print (iter)\n",
    "print (trainlog_lines[1])    \n",
    "load_images(\"../../data5/IMG/\")"
   ]
  },
  {
   "cell_type": "code",
   "execution_count": null,
   "metadata": {},
   "outputs": [],
   "source": [
    "# Load dataset 6\n",
    "trainlog_lines = []\n",
    "with open(\"../../data6/driving_log.csv\") as csvfile:\n",
    "    reader = csv.reader(csvfile)\n",
    "    next(reader)\n",
    "    iter = 0\n",
    "    for line in reader:\n",
    "        trainlog_lines.append(line)\n",
    "        iter += 1\n",
    "    print (iter)\n",
    "print (trainlog_lines[1])    \n",
    "load_images(\"../../data6/IMG/\")"
   ]
  },
  {
   "cell_type": "code",
   "execution_count": null,
   "metadata": {},
   "outputs": [],
   "source": [
    "aug_images, aug_meas = [], []\n",
    "iter = 0\n",
    "for image, meas in zip(images, measurements):\n",
    "    aug_images.append(image)\n",
    "    aug_meas.append(meas)\n",
    "    aug_images.append(np.fliplr(image))\n",
    "    aug_meas.append(-1.0*meas)\n",
    "    iter += 1\n",
    "    if (iter == 200):\n",
    "        plt.imshow(image)\n",
    "        plt.show()\n",
    "        plt.imshow(np.fliplr(image))\n",
    "        print (meas, -1.0*meas)"
   ]
  },
  {
   "cell_type": "code",
   "execution_count": null,
   "metadata": {},
   "outputs": [],
   "source": [
    "X_train = np.array(aug_images)\n",
    "y_train = np.array(aug_meas)"
   ]
  },
  {
   "cell_type": "code",
   "execution_count": null,
   "metadata": {},
   "outputs": [],
   "source": [
    "print (X_train.shape)\n",
    "print (y_train.shape)"
   ]
  },
  {
   "cell_type": "code",
   "execution_count": null,
   "metadata": {},
   "outputs": [],
   "source": [
    "def show_loss_stats(history_object):\n",
    "    ### print the keys contained in the history object\n",
    "    print(history_object.history.keys())\n",
    "\n",
    "    ### plot the training and validation loss for each epoch\n",
    "    plt.plot(history_object.history['loss'])\n",
    "    plt.plot(history_object.history['val_loss'])\n",
    "    plt.title('model mean squared error loss')\n",
    "    plt.ylabel('mean squared error loss')\n",
    "    plt.xlabel('epoch')\n",
    "    plt.legend(['training set', 'validation set'], loc='upper right')\n",
    "    plt.show()"
   ]
  },
  {
   "cell_type": "code",
   "execution_count": null,
   "metadata": {
    "scrolled": false
   },
   "outputs": [],
   "source": [
    "import keras\n",
    "from keras.models import Sequential\n",
    "from keras.layers import Dense, Flatten, Lambda, Conv2D, MaxPooling2D, Cropping2D, Dropout\n",
    "from keras import optimizers\n",
    "print (keras.__version__)\n",
    "\n",
    "def lenet_model():\n",
    "    print ('\\nTraining using lenet_model()...\\n')\n",
    "    model = Sequential()\n",
    "    model.add(Lambda(lambda x: x / 255.0 - 0.5, input_shape=(160,320,3)))\n",
    "    model.add(Cropping2D( cropping=((50,20), (0,0))) )\n",
    "    model.add(Conv2D(6, (5,5) ,activation=\"relu\"))\n",
    "    model.add(MaxPooling2D())\n",
    "    model.add(Conv2D(6, (5,5) ,activation=\"relu\"))\n",
    "    model.add(MaxPooling2D())\n",
    "    model.add(Flatten())\n",
    "    model.add(Dense(120))\n",
    "    model.add(Dense(84))\n",
    "    model.add(Dense(1))\n",
    "\n",
    "    model.compile(loss=\"mse\", optimizer=\"adam\")\n",
    "    history_object = model.fit(X_train,y_train,validation_split=0.2, shuffle=True, epochs=1, batch_size=512, verbose=2)\n",
    "\n",
    "    model.save('model.h5')\n",
    "    show_loss_stats(history_object)\n",
    "\n",
    "    \n",
    "def nvidia_model():\n",
    "    print('\\nTraining using Nvidia model...\\n')\n",
    "    model = Sequential()\n",
    "    model.add(Lambda(lambda x: x / 255.0 - 0.5, input_shape=(160,320,3)))\n",
    "    model.add(Cropping2D( cropping=((50,20), (0,0))) )\n",
    "    model.add(Conv2D(24, (5,5), strides=(2,2), activation='relu'))\n",
    "    model.add(Dropout(0.5))\n",
    "    model.add(Conv2D(36, (5,5), strides=(2,2), activation='relu'))\n",
    "    model.add(Dropout(0.5))\n",
    "    model.add(Conv2D(48, (5,5), strides=(2,2), activation='relu'))\n",
    "    model.add(Dropout(0.5))\n",
    "    model.add(Conv2D(64, (3,3), strides=(2,2), activation='relu'))\n",
    "    model.add(Dropout(0.5))\n",
    "    model.add(Conv2D(64, (3,3), strides=(2,2), activation='relu'))\n",
    "    model.add(Flatten())\n",
    "    model.add(Dense(100))\n",
    "    model.add(Dense(50))\n",
    "    model.add(Dense(10))\n",
    "    model.add(Dense(1))\n",
    "    \n",
    "    model.compile(loss=\"mse\", optimizer=\"adam\")\n",
    "#    opt = optimizers.Adamax(lr=0.002, beta_1=0.9, beta_2=0.999, epsilon=None, decay=0.0)\n",
    "#    opt = optimizers.Adadelta(lr=1.0, rho=0.95, epsilon=None, decay=0.0)\n",
    "#    model.compile(loss=\"mse\", optimizer=opt)\n",
    "    history_object = model.fit(X_train,y_train,validation_split=0.3, shuffle=True, epochs=8, batch_size=512, verbose=2)\n",
    "\n",
    "    model.save('model.h5')\n",
    "    show_loss_stats(history_object)\n",
    "    \n",
    "    \n",
    "#lenet_model()    \n",
    "nvidia_model()\n",
    "\n"
   ]
  },
  {
   "cell_type": "code",
   "execution_count": null,
   "metadata": {},
   "outputs": [],
   "source": []
  },
  {
   "cell_type": "code",
   "execution_count": null,
   "metadata": {
    "scrolled": true
   },
   "outputs": [],
   "source": []
  }
 ],
 "metadata": {
  "kernelspec": {
   "display_name": "Python 3",
   "language": "python",
   "name": "python3"
  },
  "language_info": {
   "codemirror_mode": {
    "name": "ipython",
    "version": 3
   },
   "file_extension": ".py",
   "mimetype": "text/x-python",
   "name": "python",
   "nbconvert_exporter": "python",
   "pygments_lexer": "ipython3",
   "version": "3.6.1"
  }
 },
 "nbformat": 4,
 "nbformat_minor": 2
}
